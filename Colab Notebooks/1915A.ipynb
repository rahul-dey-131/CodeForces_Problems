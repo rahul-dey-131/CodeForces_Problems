{
 "cells": [
  {
   "cell_type": "markdown",
   "id": "c7d337c6",
   "metadata": {},
   "source": [
    "A. Odd One Out\n",
    "time limit per test1 second\n",
    "memory limit per test256 megabytes\n",
    "\n",
    "You are given three digits a\n",
    ", b\n",
    ", c\n",
    ". Two of them are equal, but the third one is different from the other two.\n",
    "\n",
    "Find the value that occurs exactly once.\n",
    "\n",
    "Input\n",
    "The first line contains a single integer t\n",
    " (1≤t≤270) — the number of test cases.\n",
    "\n",
    "The only line of each test case contains three digits a, b, c\n",
    " (0≤a, b, c≤9). Two of the digits are equal, but the third one is different from the other two.\n",
    "\n",
    "Output\n",
    "For each test case, output the value that occurs exactly once.\n",
    "\n",
    "Example\n",
    "InputCopy\n",
    "10\n",
    "1 2 2\n",
    "4 3 4\n",
    "5 5 6\n",
    "7 8 8\n",
    "9 0 9\n",
    "3 6 3\n",
    "2 8 2\n",
    "5 7 7\n",
    "7 7 5\n",
    "5 7 5\n",
    "OutputCopy\n",
    "1\n",
    "3\n",
    "6\n",
    "7\n",
    "0\n",
    "6\n",
    "8\n",
    "5\n",
    "5\n",
    "7\n",
    "\n"
   ]
  },
  {
   "cell_type": "code",
   "execution_count": 3,
   "id": "a2b0eb59",
   "metadata": {},
   "outputs": [
    {
     "name": "stdout",
     "output_type": "stream",
     "text": [
      "1\n",
      "3\n",
      "6\n"
     ]
    }
   ],
   "source": [
    "def findanother(numbers):\n",
    "    for num in numbers: \n",
    "        if numbers.count(num) == 1: return num         \n",
    "\n",
    "ts = int(input())\n",
    "result = [0] * ts\n",
    "for t in range(ts):\n",
    "    numbers = list(map(int, input().split()))\n",
    "    result[t] = findanother(numbers)\n",
    "\n",
    "for r in result: print(r)"
   ]
  }
 ],
 "metadata": {
  "kernelspec": {
   "display_name": "Python 3",
   "language": "python",
   "name": "python3"
  },
  "language_info": {
   "codemirror_mode": {
    "name": "ipython",
    "version": 3
   },
   "file_extension": ".py",
   "mimetype": "text/x-python",
   "name": "python",
   "nbconvert_exporter": "python",
   "pygments_lexer": "ipython3",
   "version": "3.13.2"
  }
 },
 "nbformat": 4,
 "nbformat_minor": 5
}
