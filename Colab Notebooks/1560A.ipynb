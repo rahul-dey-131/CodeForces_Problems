{
 "cells": [
  {
   "cell_type": "markdown",
   "id": "cf52654e",
   "metadata": {},
   "source": [
    "A. Dislike of Threes\n",
    "time limit per test1 second\n",
    "memory limit per test256 megabytes\n",
    "\n",
    "Polycarp doesn't like integers that are divisible by 3\n",
    " or end with the digit 3\n",
    " in their decimal representation. Integers that meet both conditions are disliked by Polycarp, too.\n",
    "\n",
    "Polycarp starts to write out the positive (greater than 0\n",
    ") integers which he likes: 1,2,4,5,7,8,10,11,14,16,…\n",
    ". Output the k\n",
    "-th element of this sequence (the elements are numbered from 1\n",
    ").\n",
    "\n",
    "Input\n",
    "The first line contains one integer t\n",
    " (1≤t≤100\n",
    ") — the number of test cases. Then t\n",
    " test cases follow.\n",
    "\n",
    "Each test case consists of one line containing one integer k\n",
    " (1≤k≤1000\n",
    ").\n",
    "\n",
    "Output\n",
    "For each test case, output in a separate line one integer x\n",
    " — the k\n",
    "-th element of the sequence that was written out by Polycarp."
   ]
  },
  {
   "cell_type": "markdown",
   "id": "78e8781b",
   "metadata": {},
   "source": [
    "10\n",
    "1\n",
    "2\n",
    "3\n",
    "4\n",
    "5\n",
    "6\n",
    "7\n",
    "8\n",
    "9\n",
    "1000\n"
   ]
  },
  {
   "cell_type": "markdown",
   "id": "237875d4",
   "metadata": {},
   "source": [
    "1\n",
    "2\n",
    "4\n",
    "5\n",
    "7\n",
    "8\n",
    "10\n",
    "11\n",
    "14\n",
    "1666\n"
   ]
  },
  {
   "cell_type": "code",
   "execution_count": 26,
   "id": "809e9301",
   "metadata": {},
   "outputs": [
    {
     "name": "stdout",
     "output_type": "stream",
     "text": [
      "1\n",
      "2\n",
      "4\n",
      "5\n",
      "7\n",
      "8\n",
      "10\n",
      "11\n",
      "14\n",
      "1666\n"
     ]
    }
   ],
   "source": [
    "def decision(k):\n",
    "    i, dec = 1, 0\n",
    "    while (i <= k):\n",
    "        dec += 1\n",
    "        if not (dec % 3) or (str(dec)[-1] == '3'): continue\n",
    "        else: i += 1\n",
    "    return dec\n",
    "\n",
    "ts = int(input())\n",
    "result = [0] * ts\n",
    "for t in range(ts):\n",
    "    k = int(input())\n",
    "    result[t] = decision(k)\n",
    "\n",
    "for r in result:\n",
    "    print(r)"
   ]
  },
  {
   "cell_type": "code",
   "execution_count": 18,
   "id": "41b3b1b6",
   "metadata": {},
   "outputs": [
    {
     "name": "stdout",
     "output_type": "stream",
     "text": [
      "2\n"
     ]
    }
   ],
   "source": [
    "print(str(32)[-1])"
   ]
  }
 ],
 "metadata": {
  "kernelspec": {
   "display_name": "Python 3",
   "language": "python",
   "name": "python3"
  },
  "language_info": {
   "codemirror_mode": {
    "name": "ipython",
    "version": 3
   },
   "file_extension": ".py",
   "mimetype": "text/x-python",
   "name": "python",
   "nbconvert_exporter": "python",
   "pygments_lexer": "ipython3",
   "version": "3.13.2"
  }
 },
 "nbformat": 4,
 "nbformat_minor": 5
}
